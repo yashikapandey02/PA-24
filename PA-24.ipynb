{
 "cells": [
  {
   "cell_type": "code",
   "execution_count": null,
   "id": "1316e8ab",
   "metadata": {},
   "outputs": [],
   "source": [
    "1.Create a function that takes an integer and returns a list from 1 to the given number, where:\n",
    "1. If the number can be divided evenly by 4, amplify it by 10 (i.e. return 10 times the\n",
    "number).\n",
    "2. If the number cannot be divided evenly by 4, simply return the number."
   ]
  },
  {
   "cell_type": "code",
   "execution_count": 1,
   "id": "5a48c823",
   "metadata": {},
   "outputs": [
    {
     "data": {
      "text/plain": [
       "[1, 2, 3, 40]"
      ]
     },
     "execution_count": 1,
     "metadata": {},
     "output_type": "execute_result"
    }
   ],
   "source": [
    "def amplify(n):\n",
    "    return [i*10 if i % 4 == 0 else i for i in range(1,n+1) ]\n",
    "\n",
    "\n",
    "amplify(4)\n",
    "\n"
   ]
  },
  {
   "cell_type": "code",
   "execution_count": 2,
   "id": "1ae55929",
   "metadata": {},
   "outputs": [
    {
     "data": {
      "text/plain": [
       "[1, 2, 3]"
      ]
     },
     "execution_count": 2,
     "metadata": {},
     "output_type": "execute_result"
    }
   ],
   "source": [
    "amplify(3) "
   ]
  },
  {
   "cell_type": "code",
   "execution_count": 3,
   "id": "6f25abfc",
   "metadata": {},
   "outputs": [
    {
     "name": "stdout",
     "output_type": "stream",
     "text": [
      "[1, 2, 3, 40, 5, 6, 7, 80, 9, 10, 11, 120, 13, 14, 15, 160, 17, 18, 19, 200, 21, 22, 23, 240, 25]\n"
     ]
    }
   ],
   "source": [
    "print(amplify(25))\n"
   ]
  },
  {
   "cell_type": "code",
   "execution_count": null,
   "id": "d6eeb7d2",
   "metadata": {},
   "outputs": [],
   "source": [
    "2.Create a function that takes a list of numbers and return the number that's unique.\n",
    "Examples\n",
    "unique([3, 3, 3, 7, 3, 3]) ➞ 7\n",
    "unique([0, 0, 0.77, 0, 0]) ➞ 0.77\n",
    "unique([0, 1, 1, 1, 1, 1, 1, 1]) ➞ 0\n",
    "Notes\n",
    "Test cases will always have exactly one unique number while all others are the same."
   ]
  },
  {
   "cell_type": "code",
   "execution_count": 4,
   "id": "0cc8f5d6",
   "metadata": {},
   "outputs": [
    {
     "data": {
      "text/plain": [
       "7"
      ]
     },
     "execution_count": 4,
     "metadata": {},
     "output_type": "execute_result"
    }
   ],
   "source": [
    "def unique(lst):\n",
    "    s = list(set(lst))# give us unique value\n",
    "    for i in s:\n",
    "        if lst.count(i) == 1:\n",
    "            return i\n",
    "        \n",
    "\n",
    "unique([3, 3, 3, 7, 3, 3])\n"
   ]
  },
  {
   "cell_type": "code",
   "execution_count": null,
   "id": "3bfb46e1",
   "metadata": {},
   "outputs": [],
   "source": [
    "3.Your task is to create a Circle constructor that creates a circle with a radius provided by an\n",
    "argument. The circles constructed must have two getters getArea() (PIr^2) and\n",
    "getPerimeter() (2PI*r) which give both respective areas and perimeter (circumference).\n",
    "\n",
    "For help with this class, I have provided you with a Rectangle constructor which you can use\n",
    "as a base example.\n",
    "Examples\n",
    "circy = Circle(11)\n",
    "circy.getArea()\n",
    "# Should return 380.132711084365\n",
    "circy = Circle(4.44)\n",
    "circy.getPerimeter()\n",
    "# Should return 27.897342763877365\n",
    "Notes\n",
    "Round results up to the nearest integer."
   ]
  },
  {
   "cell_type": "code",
   "execution_count": 5,
   "id": "9f6745a8",
   "metadata": {},
   "outputs": [
    {
     "data": {
      "text/plain": [
       "380"
      ]
     },
     "execution_count": 5,
     "metadata": {},
     "output_type": "execute_result"
    }
   ],
   "source": [
    "class Circle():\n",
    "    def __init__(self, r):\n",
    "        self.radius = r\n",
    "\n",
    "    def getArea(self):\n",
    "        return round(self.radius**2*3.14)\n",
    "    \n",
    "    def getPerimeter(self):\n",
    "        return round(2*self.radius*3.14)\n",
    "    \n",
    "\n",
    "circy = Circle(11)\n",
    "circy.getArea()\n",
    "\n"
   ]
  },
  {
   "cell_type": "code",
   "execution_count": 6,
   "id": "d9baa87c",
   "metadata": {},
   "outputs": [
    {
     "data": {
      "text/plain": [
       "28"
      ]
     },
     "execution_count": 6,
     "metadata": {},
     "output_type": "execute_result"
    }
   ],
   "source": [
    "circy = Circle(4.44)\n",
    "circy.getPerimeter()"
   ]
  },
  {
   "cell_type": "code",
   "execution_count": null,
   "id": "18fa3c5e",
   "metadata": {},
   "outputs": [],
   "source": [
    "4.Create a function that takes a list of strings and return a list, sorted from shortest to longest.\n",
    "Examples\n",
    "sort_by_length(['Google', 'Apple', 'Microsoft'])\n",
    "➞ ['Apple', 'Google', 'Microsoft']\n",
    "sort_by_length(['Leonardo', 'Michelangelo', 'Raphael', 'Donatello'])\n",
    "➞ ['Raphael', 'Leonardo', 'Donatello', 'Michelangelo']\n",
    "sort_by_length(['Turing', 'Einstein', 'Jung'])\n",
    "➞ ['Jung', 'Turing', 'Einstein']\n",
    "Notes\n",
    "All test cases contain lists with strings of different lengths, so you won't have to deal with\n",
    "multiple strings of the same length.\n"
   ]
  },
  {
   "cell_type": "code",
   "execution_count": 7,
   "id": "e3ec8e2a",
   "metadata": {},
   "outputs": [
    {
     "data": {
      "text/plain": [
       "['Apple', 'Google', 'Microsoft']"
      ]
     },
     "execution_count": 7,
     "metadata": {},
     "output_type": "execute_result"
    }
   ],
   "source": [
    "def sort_by_length(lst):\n",
    "    return sorted(lst, key = len)\n",
    "sort_by_length(['Google', 'Apple', 'Microsoft'])"
   ]
  },
  {
   "cell_type": "code",
   "execution_count": 8,
   "id": "dc0ba2ab",
   "metadata": {},
   "outputs": [
    {
     "data": {
      "text/plain": [
       "['Raphael', 'Leonardo', 'Donatello', 'Michelangelo']"
      ]
     },
     "execution_count": 8,
     "metadata": {},
     "output_type": "execute_result"
    }
   ],
   "source": [
    "sort_by_length(['Leonardo', 'Michelangelo', 'Raphael', 'Donatello'])"
   ]
  },
  {
   "cell_type": "code",
   "execution_count": 9,
   "id": "512b60ea",
   "metadata": {},
   "outputs": [
    {
     "data": {
      "text/plain": [
       "['Jung', 'Turing', 'Einstein']"
      ]
     },
     "execution_count": 9,
     "metadata": {},
     "output_type": "execute_result"
    }
   ],
   "source": [
    "sort_by_length(['Turing', 'Einstein', 'Jung'])"
   ]
  },
  {
   "cell_type": "code",
   "execution_count": null,
   "id": "2cec857b",
   "metadata": {},
   "outputs": [],
   "source": [
    "5.Create a function that validates whether three given integers form a Pythagorean triplet. The\n",
    "sum of the squares of the two smallest integers must equal the square of the largest number to\n",
    "be validated.\n",
    "\n",
    "Examples\n",
    "is_triplet(3, 4, 5) ➞ True\n",
    "# 3² + 4² = 25\n",
    "# 5² = 25\n",
    "is_triplet(13, 5, 12) ➞ True\n",
    "# 5² + 12² = 169\n",
    "# 13² = 169\n",
    "is_triplet(1, 2, 3) ➞ False\n",
    "# 1² + 2² = 5\n",
    "# 3² = 9\n",
    "Notes\n",
    "Numbers may not be given in a sorted order."
   ]
  },
  {
   "cell_type": "code",
   "execution_count": 10,
   "id": "b1fdeb9b",
   "metadata": {},
   "outputs": [
    {
     "name": "stdout",
     "output_type": "stream",
     "text": [
      "Triplets\n"
     ]
    },
    {
     "data": {
      "text/plain": [
       "True"
      ]
     },
     "execution_count": 10,
     "metadata": {},
     "output_type": "execute_result"
    }
   ],
   "source": [
    "def is_triplet(a,b,c):\n",
    "    lst = []\n",
    "    lst.extend((a,b,c))\n",
    "    lst = sorted(lst)\n",
    "\n",
    "    if lst[0]**2 + lst[1]**2 == lst[2]**2:\n",
    "        print('Triplets')\n",
    "        return True\n",
    "    else:\n",
    "        print(\"not triplet\")\n",
    "        return False\n",
    "    \n",
    "\n",
    "is_triplet(3, 4, 5)\n",
    "\n"
   ]
  },
  {
   "cell_type": "code",
   "execution_count": 12,
   "id": "b03c04cd",
   "metadata": {},
   "outputs": [
    {
     "name": "stdout",
     "output_type": "stream",
     "text": [
      "not triplet\n"
     ]
    },
    {
     "data": {
      "text/plain": [
       "False"
      ]
     },
     "execution_count": 12,
     "metadata": {},
     "output_type": "execute_result"
    }
   ],
   "source": [
    "is_triplet(1, 2, 3) "
   ]
  },
  {
   "cell_type": "code",
   "execution_count": 14,
   "id": "0e420da2",
   "metadata": {},
   "outputs": [
    {
     "name": "stdout",
     "output_type": "stream",
     "text": [
      "Triplets\n"
     ]
    },
    {
     "data": {
      "text/plain": [
       "True"
      ]
     },
     "execution_count": 14,
     "metadata": {},
     "output_type": "execute_result"
    }
   ],
   "source": [
    "is_triplet(13, 5, 12) "
   ]
  },
  {
   "cell_type": "code",
   "execution_count": null,
   "id": "520e9a85",
   "metadata": {},
   "outputs": [],
   "source": []
  }
 ],
 "metadata": {
  "kernelspec": {
   "display_name": "Python 3 (ipykernel)",
   "language": "python",
   "name": "python3"
  },
  "language_info": {
   "codemirror_mode": {
    "name": "ipython",
    "version": 3
   },
   "file_extension": ".py",
   "mimetype": "text/x-python",
   "name": "python",
   "nbconvert_exporter": "python",
   "pygments_lexer": "ipython3",
   "version": "3.9.7"
  }
 },
 "nbformat": 4,
 "nbformat_minor": 5
}
